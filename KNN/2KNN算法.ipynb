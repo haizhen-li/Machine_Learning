{
 "cells": [
  {
   "cell_type": "code",
   "execution_count": 1,
   "id": "0c1d7da4-347a-40c3-a83c-730bb58087cb",
   "metadata": {},
   "outputs": [
    {
     "ename": "ImportError",
     "evalue": "cannot import name 'KNeighborsClassifer' from 'sklearn.neighbors' (/Users/haizhenli/Documents/program/MLenv/lib/python3.11/site-packages/sklearn/neighbors/__init__.py)",
     "output_type": "error",
     "traceback": [
      "\u001b[0;31m---------------------------------------------------------------------------\u001b[0m",
      "\u001b[0;31mImportError\u001b[0m                               Traceback (most recent call last)",
      "Cell \u001b[0;32mIn[1], line 1\u001b[0m\n\u001b[0;32m----> 1\u001b[0m \u001b[38;5;28;01mfrom\u001b[39;00m\u001b[38;5;250m \u001b[39m\u001b[38;5;21;01msklearn\u001b[39;00m\u001b[38;5;21;01m.\u001b[39;00m\u001b[38;5;21;01mneighbors\u001b[39;00m\u001b[38;5;250m \u001b[39m\u001b[38;5;28;01mimport\u001b[39;00m KNeighborsClassifer\n",
      "\u001b[0;31mImportError\u001b[0m: cannot import name 'KNeighborsClassifer' from 'sklearn.neighbors' (/Users/haizhenli/Documents/program/MLenv/lib/python3.11/site-packages/sklearn/neighbors/__init__.py)"
     ]
    }
   ],
   "source": [
    "from sklearn.neighbors import KNeighborsClassifer"
   ]
  },
  {
   "cell_type": "code",
   "execution_count": null,
   "id": "698a91ec-3016-4fde-b87e-1a33b7d7aae8",
   "metadata": {},
   "outputs": [],
   "source": []
  }
 ],
 "metadata": {
  "kernelspec": {
   "display_name": "Python (MLenv)",
   "language": "python",
   "name": "mlenv"
  },
  "language_info": {
   "codemirror_mode": {
    "name": "ipython",
    "version": 3
   },
   "file_extension": ".py",
   "mimetype": "text/x-python",
   "name": "python",
   "nbconvert_exporter": "python",
   "pygments_lexer": "ipython3",
   "version": "3.11.9"
  }
 },
 "nbformat": 4,
 "nbformat_minor": 5
}
